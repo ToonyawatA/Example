{
 "cells": [
  {
   "cell_type": "code",
   "execution_count": 1,
   "id": "burning-tumor",
   "metadata": {},
   "outputs": [],
   "source": [
    "import sys"
   ]
  },
  {
   "cell_type": "code",
   "execution_count": 3,
   "id": "ahead-given",
   "metadata": {},
   "outputs": [
    {
     "data": {
      "text/plain": [
       "['/Users/toonyawatangkhanawin/Desktop/git-test2',\n",
       " '/Users/toonyawatangkhanawin/anaconda3/lib/python38.zip',\n",
       " '/Users/toonyawatangkhanawin/anaconda3/lib/python3.8',\n",
       " '/Users/toonyawatangkhanawin/anaconda3/lib/python3.8/lib-dynload',\n",
       " '',\n",
       " '/Users/toonyawatangkhanawin/anaconda3/lib/python3.8/site-packages',\n",
       " '/Users/toonyawatangkhanawin/anaconda3/lib/python3.8/site-packages/aeosa',\n",
       " '/Users/toonyawatangkhanawin/anaconda3/lib/python3.8/site-packages/locket-0.2.1-py3.8.egg',\n",
       " '/Users/toonyawatangkhanawin/anaconda3/lib/python3.8/site-packages/IPython/extensions',\n",
       " '/Users/toonyawatangkhanawin/.ipython']"
      ]
     },
     "execution_count": 3,
     "metadata": {},
     "output_type": "execute_result"
    }
   ],
   "source": [
    "sys.path"
   ]
  },
  {
   "cell_type": "code",
   "execution_count": null,
   "id": "voluntary-cedar",
   "metadata": {},
   "outputs": [],
   "source": []
  }
 ],
 "metadata": {
  "kernelspec": {
   "display_name": "Python 3",
   "language": "python",
   "name": "python3"
  },
  "language_info": {
   "codemirror_mode": {
    "name": "ipython",
    "version": 3
   },
   "file_extension": ".py",
   "mimetype": "text/x-python",
   "name": "python",
   "nbconvert_exporter": "python",
   "pygments_lexer": "ipython3",
   "version": "3.8.8"
  }
 },
 "nbformat": 4,
 "nbformat_minor": 5
}
